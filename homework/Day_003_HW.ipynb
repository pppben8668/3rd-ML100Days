{
 "cells": [
  {
   "cell_type": "markdown",
   "metadata": {},
   "source": [
    "### 請至以下機器學習巨頭的 blog 參觀，試著閱讀一篇文章並分析其 \n",
    "\n",
    "作業1：目標\n",
    "\n",
    "一種用於人臉檢測的設備深度神經網絡\n",
    "\n",
    "我們如何充分利用我們的GPU和CPU（使用BNNS和Metal）\n",
    "用於網絡推理以及圖像加載和緩存的內存優化，如何以不干擾iPhone預期的眾多其他同步任務的方式實施網絡。\n",
    "\n",
    "作業2：方法\n",
    "\n",
    "使用深度卷積網絡(DCN)，在使用的後推廣出其中最突出的是一種名為“OverFeat”的方法它推，這些想法表明DCN在掃描物體的圖像時非常有效。\n",
    "OverFeat將神經網絡的完全連接層與卷積層之間的等效性與具有與輸入相同的空間維度的濾波器的有效卷積相提並論，固定感受野的二進制分類網絡（例如32x32，自然步幅為16像素）可以有效地應用於任意大小的圖像（例如，1024x1024）\n",
    "\n",
    "作業3：資料來源 \n",
    "\n",
    "https://machinelearning.apple.com/2017/11/16/face-detection.html"
   ]
  }
 ],
 "metadata": {
  "kernelspec": {
   "display_name": "Python 3",
   "language": "python",
   "name": "python3"
  },
  "language_info": {
   "codemirror_mode": {
    "name": "ipython",
    "version": 3
   },
   "file_extension": ".py",
   "mimetype": "text/x-python",
   "name": "python",
   "nbconvert_exporter": "python",
   "pygments_lexer": "ipython3",
   "version": "3.6.1"
  }
 },
 "nbformat": 4,
 "nbformat_minor": 2
}
