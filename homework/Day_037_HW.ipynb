{
 "cells": [
  {
   "cell_type": "markdown",
   "metadata": {},
   "source": [
    "1.線性回歸模型能夠準確預測非線性關係的資料集嗎?\n"
   ]
  },
  {
   "cell_type": "markdown",
   "metadata": {},
   "source": [
    "2.回歸模型是否對資料分布有基本假設?"
   ]
  },
  {
   "cell_type": "markdown",
   "metadata": {},
   "source": [
    "###### 1.若是線性回歸 Linear regression 是無法準確預測非線性的資料集的，即使有很多參數，仍然是使用線性的方式來擬和資料。所以當資料具有非線性的關係時，Linear Regression 的表現就會變差。Logistic Regression 雖然是廣義的線性模型，但經過 Sigmoid 函數以及 kernel trick，是可以解決非線性問題.\n",
    "\n",
    "###### 2.通常對資料有五個基本假設, 當然現今模型有許多技巧即使資料不符合基本假設一樣能夠訓練，但對模型使用的基本限制有一定的了解能夠幫助你找出訓練不佳的問題是什麼。"
   ]
  },
  {
   "cell_type": "code",
   "execution_count": null,
   "metadata": {
    "collapsed": true
   },
   "outputs": [],
   "source": []
  }
 ],
 "metadata": {
  "kernelspec": {
   "display_name": "Python 3",
   "language": "python",
   "name": "python3"
  },
  "language_info": {
   "codemirror_mode": {
    "name": "ipython",
    "version": 3
   },
   "file_extension": ".py",
   "mimetype": "text/x-python",
   "name": "python",
   "nbconvert_exporter": "python",
   "pygments_lexer": "ipython3",
   "version": "3.6.1"
  }
 },
 "nbformat": 4,
 "nbformat_minor": 2
}
