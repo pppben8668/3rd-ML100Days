{
 "cells": [
  {
   "cell_type": "markdown",
   "metadata": {},
   "source": [
    "### 思考題_請找出一個你認為機器學習可以發光發熱的領域並闡述原因?"
   ]
  },
  {
   "cell_type": "markdown",
   "metadata": {},
   "source": [
    "半導體廠，半導體廠每天有許多的資料被記錄，像是不同站點有不同的cycle time，\n",
    "例如OD loop因為是第一層光罩製作，所以需要比較多的工程時間，\n",
    "那麼可以分析在每個站點所需的時間找出哪些站點是bottleneck，\n",
    "可以督促課長在監度的時候必須上心一點， 也可以讓生管有KPI可以直接產生預估交期。 \n",
    "但是首先必須將工廠資料統整，所以很認同清大簡甄富教授提出的工業3.5，\n",
    "必須先將資料整理並納入資料庫能進行分析，這是目前很多工廠沒有做到的事， 值得被應用。"
   ]
  }
 ],
 "metadata": {
  "kernelspec": {
   "display_name": "Python 3",
   "language": "python",
   "name": "python3"
  },
  "language_info": {
   "codemirror_mode": {
    "name": "ipython",
    "version": 3
   },
   "file_extension": ".py",
   "mimetype": "text/x-python",
   "name": "python",
   "nbconvert_exporter": "python",
   "pygments_lexer": "ipython3",
   "version": "3.6.1"
  }
 },
 "nbformat": 4,
 "nbformat_minor": 2
}
