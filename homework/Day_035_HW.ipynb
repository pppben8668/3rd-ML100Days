{
 "cells": [
  {
   "cell_type": "markdown",
   "metadata": {},
   "source": [
    "請搜尋目標為多標籤問題 (Multi-label) 的機器學習案例，了解其資料來源、目標以及評估指標為何"
   ]
  },
  {
   "cell_type": "markdown",
   "metadata": {},
   "source": [
    "## Ans:\n",
    "案例：Multi-language and Multi-label Classification Problem on Fashion Dataset\n",
    "\n",
    "https://github.com/erdiolmezogullari/ml-multi-label-classification\n",
    "\n",
    "資料來源：Dataset was collected over different fashion web sites.\n",
    "\n",
    "評估指標：準確度acc\n"
   ]
  },
  {
   "cell_type": "markdown",
   "metadata": {},
   "source": [
    "## [ 參考資料 ]\n",
    "了解回歸與分類的差異在哪裡?\n",
    "http://zylix666.blogspot.com/2016/06/supervised-classificationregression.html"
   ]
  }
 ],
 "metadata": {
  "kernelspec": {
   "display_name": "Python 3",
   "language": "python",
   "name": "python3"
  },
  "language_info": {
   "codemirror_mode": {
    "name": "ipython",
    "version": 3
   },
   "file_extension": ".py",
   "mimetype": "text/x-python",
   "name": "python",
   "nbconvert_exporter": "python",
   "pygments_lexer": "ipython3",
   "version": "3.6.1"
  }
 },
 "nbformat": 4,
 "nbformat_minor": 2
}
