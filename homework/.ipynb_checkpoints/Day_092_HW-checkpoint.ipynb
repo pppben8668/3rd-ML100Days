{
 "cells": [
  {
   "cell_type": "markdown",
   "metadata": {},
   "source": [
    "###### 請閱讀以下文獻，理解 CNN 原理後回答問題\n",
    "\n",
    "卷積神經網路原理 - 中文\n",
    "CNN for beginner’s guide\n",
    "\n",
    "若使用總共 128 個濾波器 (filters)，對一張 256x256 的影像做完卷積後，共會得到幾張特徵圖 (feature maps)？\n",
    "\n",
    "卷積神經網路中，濾波器的大小 (3x3 or 5x5) 與內部數字的值 (value) 是怎麼決定的呢？"
   ]
  },
  {
   "cell_type": "markdown",
   "metadata": {},
   "source": [
    "#### Sol.01 Totally, will obtain 128 feature maps from 128 filters.\n",
    "\n",
    "#### Sol.02 Filter size was decided by the user, the values were depenfing on the experience of machine learning."
   ]
  }
 ],
 "metadata": {
  "kernelspec": {
   "display_name": "Python 3",
   "language": "python",
   "name": "python3"
  },
  "language_info": {
   "codemirror_mode": {
    "name": "ipython",
    "version": 3
   },
   "file_extension": ".py",
   "mimetype": "text/x-python",
   "name": "python",
   "nbconvert_exporter": "python",
   "pygments_lexer": "ipython3",
   "version": "3.6.10"
  }
 },
 "nbformat": 4,
 "nbformat_minor": 4
}
